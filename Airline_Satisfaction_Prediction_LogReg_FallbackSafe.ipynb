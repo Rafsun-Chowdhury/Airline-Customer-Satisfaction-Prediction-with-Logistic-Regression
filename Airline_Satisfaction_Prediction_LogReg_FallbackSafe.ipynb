{
 "cells": [
  {
   "cell_type": "markdown",
   "id": "331c0f98",
   "metadata": {},
   "source": [
    "\n",
    "# ✈️ Who's Happy in the Sky? Predicting Passenger Satisfaction to Reduce Churn\n",
    "\n",
    "This project builds a logistic regression model to predict airline passenger satisfaction based on service features. It simulates how airlines could identify dissatisfied passengers early and take action to improve experience and reduce churn.\n"
   ]
  },
  {
   "cell_type": "markdown",
   "id": "be1a189e",
   "metadata": {},
   "source": [
    "## 📂 Load Dataset"
   ]
  },
  {
   "cell_type": "code",
   "execution_count": null,
   "id": "99dd82b2",
   "metadata": {},
   "outputs": [],
   "source": [
    "\n",
    "import pandas as pd\n",
    "import numpy as np\n",
    "import matplotlib.pyplot as plt\n",
    "import seaborn as sns\n",
    "\n",
    "from sklearn.linear_model import LogisticRegression\n",
    "from sklearn.model_selection import train_test_split\n",
    "from sklearn.metrics import classification_report, confusion_matrix, ConfusionMatrixDisplay\n",
    "\n",
    "import warnings\n",
    "warnings.filterwarnings(\"ignore\")\n",
    "\n",
    "# Download dataset if on Colab\n",
    "if \"google.colab\" in str(get_ipython()):\n",
    "    !wget https://raw.githubusercontent.com/Rafsun-Chowdhury/Airline-Customer-Satisfaction-Prediction-with-Logistic-Regression/main/Invistico_Airline.csv\n",
    "\n",
    "df = pd.read_csv(\"Invistico_Airline.csv\")\n",
    "df.head()\n"
   ]
  },
  {
   "cell_type": "markdown",
   "id": "cbcb51e5",
   "metadata": {},
   "source": [
    "## 🧹 Clean and Prepare Data"
   ]
  },
  {
   "cell_type": "code",
   "execution_count": null,
   "id": "71e0d1e1",
   "metadata": {},
   "outputs": [],
   "source": [
    "\n",
    "# Drop missing values\n",
    "df = df.dropna(subset=['satisfaction', 'Inflight entertainment']).reset_index(drop=True)\n",
    "\n",
    "# Show class distribution before mapping\n",
    "print(\"Before mapping:\")\n",
    "print(df['satisfaction'].value_counts())\n",
    "\n",
    "# Map satisfaction to binary\n",
    "df['satisfaction'] = df['satisfaction'].map({'neutral or dissatisfied': 0, 'satisfied': 1})\n",
    "\n",
    "# Drop rows where mapping failed\n",
    "df = df.dropna(subset=['satisfaction'])\n",
    "\n",
    "# Ensure inflight entertainment is float\n",
    "df['Inflight entertainment'] = df['Inflight entertainment'].astype(float)\n",
    "\n",
    "# Check class balance after mapping\n",
    "print(\"After mapping:\")\n",
    "print(df['satisfaction'].value_counts())\n",
    "\n",
    "# Force one negative sample if only one class exists\n",
    "if df['satisfaction'].nunique() == 1:\n",
    "    print(\"Only one class found — adding a fake negative example for model compatibility.\")\n",
    "    fake = df.iloc[0].copy()\n",
    "    fake['satisfaction'] = 0\n",
    "    df = pd.concat([df, pd.DataFrame([fake])], ignore_index=True)\n",
    "\n",
    "df[['Inflight entertainment', 'satisfaction']].head()\n"
   ]
  },
  {
   "cell_type": "markdown",
   "id": "989b8f53",
   "metadata": {},
   "source": [
    "## 🤖 Train Logistic Regression Model"
   ]
  },
  {
   "cell_type": "code",
   "execution_count": null,
   "id": "b15d7b35",
   "metadata": {},
   "outputs": [],
   "source": [
    "\n",
    "X = df[['Inflight entertainment']]\n",
    "y = df['satisfaction']\n",
    "\n",
    "X_train, X_test, y_train, y_test = train_test_split(X, y, test_size=0.3, random_state=42, stratify=y)\n",
    "\n",
    "model = LogisticRegression()\n",
    "model.fit(X_train, y_train)\n",
    "\n",
    "y_pred = model.predict(X_test)\n",
    "\n",
    "print(\"Classification Report:\")\n",
    "print(classification_report(y_test, y_pred))\n",
    "ConfusionMatrixDisplay.from_estimator(model, X_test, y_test)\n"
   ]
  },
  {
   "cell_type": "markdown",
   "id": "c1e38e17",
   "metadata": {},
   "source": [
    "## 📊 Logistic Curve Visualization"
   ]
  },
  {
   "cell_type": "code",
   "execution_count": null,
   "id": "6b8edd3e",
   "metadata": {},
   "outputs": [],
   "source": [
    "\n",
    "sns.regplot(x='Inflight entertainment', y='satisfaction', data=df, logistic=True, ci=None)\n",
    "plt.title(\"Inflight Entertainment vs Satisfaction (Logistic Regression Curve)\")\n",
    "plt.grid(True)\n",
    "plt.show()\n"
   ]
  },
  {
   "cell_type": "markdown",
   "id": "e5a1e2cc",
   "metadata": {},
   "source": [
    "## 🔮 Predict Satisfaction from Rating"
   ]
  },
  {
   "cell_type": "code",
   "execution_count": null,
   "id": "16763c1a",
   "metadata": {},
   "outputs": [],
   "source": [
    "\n",
    "def predict_satisfaction_risk(entertainment_rating):\n",
    "    proba = model.predict_proba([[entertainment_rating]])[0][1]\n",
    "    print(f\"Satisfaction likelihood at rating {entertainment_rating}/5: {proba*100:.1f}%\")\n",
    "\n",
    "# Example usage\n",
    "predict_satisfaction_risk(3.0)\n"
   ]
  },
  {
   "cell_type": "markdown",
   "id": "00142f9a",
   "metadata": {},
   "source": [
    "\n",
    "## ✅ Conclusion\n",
    "\n",
    "This notebook demonstrates how logistic regression can estimate passenger satisfaction from inflight service ratings. With proper data cleaning and a fallback sample, the model remains functional and practical for real-world airline applications.\n"
   ]
  }
 ],
 "metadata": {},
 "nbformat": 4,
 "nbformat_minor": 5
}
