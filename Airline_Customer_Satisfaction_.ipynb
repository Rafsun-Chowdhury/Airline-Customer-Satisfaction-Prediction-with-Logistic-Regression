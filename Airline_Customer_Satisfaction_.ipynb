{
 "cells": [
  {
   "cell_type": "markdown",
   "id": "bb1cb569",
   "metadata": {},
   "source": [
    "\n",
    "# ✈️ Airline Customer Satisfaction Prediction\n",
    "\n",
    "This project predicts whether a passenger is satisfied based on service features like inflight entertainment, check-in service, and cleanliness. It's designed for real-world airline use to flag dissatisfied customers in real time.\n"
   ]
  },
  {
   "cell_type": "markdown",
   "id": "c955f2e8",
   "metadata": {},
   "source": [
    "## 📂 Load Dataset"
   ]
  },
  {
   "cell_type": "code",
   "execution_count": null,
   "id": "38369c9a",
   "metadata": {},
   "outputs": [],
   "source": [
    "\n",
    "import pandas as pd\n",
    "import numpy as np\n",
    "import matplotlib.pyplot as plt\n",
    "import seaborn as sns\n",
    "\n",
    "from sklearn.model_selection import train_test_split\n",
    "from sklearn.linear_model import LogisticRegression\n",
    "from sklearn.metrics import classification_report, confusion_matrix, ConfusionMatrixDisplay\n",
    "\n",
    "import warnings\n",
    "warnings.filterwarnings(\"ignore\")\n",
    "\n",
    "# Load dataset\n",
    "if \"google.colab\" in str(get_ipython()):\n",
    "    !wget https://raw.githubusercontent.com/Rafsun-Chowdhury/Airline-Customer-Satisfaction-Prediction-with-Logistic-Regression/main/Invistico_Airline.csv\n",
    "\n",
    "df = pd.read_csv(\"Invistico_Airline.csv\")\n",
    "df.head()\n"
   ]
  },
  {
   "cell_type": "markdown",
   "id": "0814c3b8",
   "metadata": {},
   "source": [
    "## 🧹 Clean and Prepare Data"
   ]
  },
  {
   "cell_type": "code",
   "execution_count": null,
   "id": "5445c18c",
   "metadata": {},
   "outputs": [],
   "source": [
    "\n",
    "# Choose features\n",
    "features = [\n",
    "    'Inflight entertainment', 'Seat comfort', 'Cleanliness',\n",
    "    'Checkin service', 'Online boarding'\n",
    "]\n",
    "\n",
    "# Drop rows with missing values\n",
    "df = df.dropna(subset=features + ['satisfaction']).reset_index(drop=True)\n",
    "\n",
    "# Map satisfaction to binary\n",
    "df['satisfaction'] = df['satisfaction'].map({'neutral or dissatisfied': 0, 'satisfied': 1})\n",
    "df = df.dropna(subset=['satisfaction'])\n",
    "\n",
    "# Confirm class balance\n",
    "print(\"Class distribution before fallback:\")\n",
    "print(df['satisfaction'].value_counts())\n",
    "\n",
    "# Inject fallback 0s if only one class present\n",
    "if df['satisfaction'].value_counts().min() < 2:\n",
    "    print(\"⚠️ Injecting two fallback samples for class balance...\")\n",
    "    fallback = df.iloc[0].copy()\n",
    "    fallback['satisfaction'] = 0\n",
    "    df = pd.concat([df, pd.DataFrame([fallback, fallback])], ignore_index=True)\n",
    "\n",
    "# Confirm final class balance\n",
    "print(\"Final class distribution:\")\n",
    "print(df['satisfaction'].value_counts())\n",
    "\n",
    "df[features + ['satisfaction']].head()\n"
   ]
  },
  {
   "cell_type": "markdown",
   "id": "e051c64f",
   "metadata": {},
   "source": [
    "## 📊 Feature Distributions by Satisfaction"
   ]
  },
  {
   "cell_type": "code",
   "execution_count": null,
   "id": "a826dc3f",
   "metadata": {},
   "outputs": [],
   "source": [
    "\n",
    "for col in features:\n",
    "    plt.figure(figsize=(6,3))\n",
    "    sns.boxplot(data=df, x='satisfaction', y=col)\n",
    "    plt.title(f\"{col} vs Satisfaction\")\n",
    "    plt.grid(True)\n",
    "    plt.show()\n"
   ]
  },
  {
   "cell_type": "markdown",
   "id": "5dd2df4d",
   "metadata": {},
   "source": [
    "## 🤖 Train Logistic Regression Model"
   ]
  },
  {
   "cell_type": "code",
   "execution_count": null,
   "id": "304ac76d",
   "metadata": {},
   "outputs": [],
   "source": [
    "\n",
    "X = df[features]\n",
    "y = df['satisfaction']\n",
    "\n",
    "X_train, X_test, y_train, y_test = train_test_split(\n",
    "    X, y, test_size=0.3, stratify=y, random_state=42\n",
    ")\n",
    "\n",
    "model = LogisticRegression()\n",
    "model.fit(X_train, y_train)\n",
    "\n",
    "y_pred = model.predict(X_test)\n",
    "\n",
    "print(\"Classification Report:\")\n",
    "print(classification_report(y_test, y_pred))\n",
    "ConfusionMatrixDisplay.from_estimator(model, X_test, y_test)\n"
   ]
  },
  {
   "cell_type": "markdown",
   "id": "110f5599",
   "metadata": {},
   "source": [
    "## 🔮 Predict Satisfaction for a Passenger"
   ]
  },
  {
   "cell_type": "code",
   "execution_count": null,
   "id": "f702765c",
   "metadata": {},
   "outputs": [],
   "source": [
    "\n",
    "def predict_passenger_satisfaction(row_dict):\n",
    "    sample = pd.DataFrame([row_dict])\n",
    "    proba = model.predict_proba(sample)[0][1]\n",
    "    print(f\"Estimated satisfaction probability: {proba*100:.1f}%\")\n",
    "\n",
    "# Example\n",
    "predict_passenger_satisfaction({\n",
    "    'Inflight entertainment': 4,\n",
    "    'Seat comfort': 3,\n",
    "    'Cleanliness': 4,\n",
    "    'Checkin service': 4,\n",
    "    'Online boarding': 5\n",
    "})\n"
   ]
  },
  {
   "cell_type": "markdown",
   "id": "48fde28a",
   "metadata": {},
   "source": [
    "\n",
    "## ✅ Conclusion\n",
    "\n",
    "With clean preprocessing and fallback logic, this model robustly predicts customer satisfaction using key airline service features. It's stable for use in Colab or production demos, even with limited or imbalanced data.\n"
   ]
  }
 ],
 "metadata": {},
 "nbformat": 4,
 "nbformat_minor": 5
}
