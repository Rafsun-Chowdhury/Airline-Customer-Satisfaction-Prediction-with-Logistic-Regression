{
 "cells": [
  {
   "cell_type": "markdown",
   "id": "67c365a5",
   "metadata": {},
   "source": [
    "\n",
    "# ✈️ Airline Customer Satisfaction Prediction\n",
    "\n",
    "This project predicts whether a passenger is satisfied or not based on service features like inflight entertainment, boarding, and cleanliness. It simulates a real-world use case for airlines to proactively detect dissatisfaction and improve loyalty.\n"
   ]
  },
  {
   "cell_type": "markdown",
   "id": "ca304974",
   "metadata": {},
   "source": [
    "## 📂 Load Dataset"
   ]
  },
  {
   "cell_type": "code",
   "execution_count": null,
   "id": "133f8e33",
   "metadata": {},
   "outputs": [],
   "source": [
    "\n",
    "import pandas as pd\n",
    "import numpy as np\n",
    "import matplotlib.pyplot as plt\n",
    "import seaborn as sns\n",
    "\n",
    "from sklearn.model_selection import train_test_split\n",
    "from sklearn.linear_model import LogisticRegression\n",
    "from sklearn.metrics import classification_report, confusion_matrix, ConfusionMatrixDisplay\n",
    "\n",
    "import warnings\n",
    "warnings.filterwarnings(\"ignore\")\n",
    "\n",
    "# Load dataset\n",
    "if \"google.colab\" in str(get_ipython()):\n",
    "    !wget https://raw.githubusercontent.com/Rafsun-Chowdhury/Airline-Customer-Satisfaction-Prediction-with-Logistic-Regression/main/Invistico_Airline.csv\n",
    "\n",
    "df = pd.read_csv(\"Invistico_Airline.csv\")\n",
    "df.head()\n"
   ]
  },
  {
   "cell_type": "markdown",
   "id": "94865da6",
   "metadata": {},
   "source": [
    "## 🧹 Clean and Prepare Data"
   ]
  },
  {
   "cell_type": "code",
   "execution_count": null,
   "id": "40fbecd1",
   "metadata": {},
   "outputs": [],
   "source": [
    "\n",
    "# Select key features\n",
    "features = [\n",
    "    'Inflight entertainment', 'Seat comfort', 'Cleanliness',\n",
    "    'Checkin service', 'Online boarding'\n",
    "]\n",
    "\n",
    "df = df.dropna(subset=features + ['satisfaction']).reset_index(drop=True)\n",
    "\n",
    "# Map satisfaction to binary\n",
    "df['satisfaction'] = df['satisfaction'].map({'neutral or dissatisfied': 0, 'satisfied': 1})\n",
    "\n",
    "# Remove rows where mapping failed\n",
    "df = df.dropna(subset=['satisfaction'])\n",
    "\n",
    "# Check class balance\n",
    "print(\"Class balance:\")\n",
    "print(df['satisfaction'].value_counts())\n",
    "\n",
    "df[features + ['satisfaction']].head()\n"
   ]
  },
  {
   "cell_type": "markdown",
   "id": "d624fa46",
   "metadata": {},
   "source": [
    "## 📊 Visualize Feature Distributions by Satisfaction"
   ]
  },
  {
   "cell_type": "code",
   "execution_count": null,
   "id": "9b17713f",
   "metadata": {},
   "outputs": [],
   "source": [
    "\n",
    "for col in features:\n",
    "    plt.figure(figsize=(6,3))\n",
    "    sns.boxplot(data=df, x='satisfaction', y=col)\n",
    "    plt.title(f\"{col} vs Satisfaction\")\n",
    "    plt.grid(True)\n",
    "    plt.show()\n"
   ]
  },
  {
   "cell_type": "markdown",
   "id": "7cf08454",
   "metadata": {},
   "source": [
    "## 🤖 Train Logistic Regression Model"
   ]
  },
  {
   "cell_type": "code",
   "execution_count": null,
   "id": "9ca3823e",
   "metadata": {},
   "outputs": [],
   "source": [
    "\n",
    "X = df[features]\n",
    "y = df['satisfaction']\n",
    "\n",
    "X_train, X_test, y_train, y_test = train_test_split(\n",
    "    X, y, test_size=0.3, stratify=y, random_state=42\n",
    ")\n",
    "\n",
    "model = LogisticRegression()\n",
    "model.fit(X_train, y_train)\n",
    "\n",
    "y_pred = model.predict(X_test)\n",
    "\n",
    "print(\"Classification Report:\")\n",
    "print(classification_report(y_test, y_pred))\n",
    "ConfusionMatrixDisplay.from_estimator(model, X_test, y_test)\n"
   ]
  },
  {
   "cell_type": "markdown",
   "id": "91dd1414",
   "metadata": {},
   "source": [
    "## 🔮 Predict Satisfaction"
   ]
  },
  {
   "cell_type": "code",
   "execution_count": null,
   "id": "a1723ded",
   "metadata": {},
   "outputs": [],
   "source": [
    "\n",
    "def predict_passenger_satisfaction(row_dict):\n",
    "    sample = pd.DataFrame([row_dict])\n",
    "    proba = model.predict_proba(sample)[0][1]\n",
    "    print(f\"Estimated satisfaction probability: {proba*100:.1f}%\")\n",
    "\n",
    "# Example\n",
    "predict_passenger_satisfaction({\n",
    "    'Inflight entertainment': 4,\n",
    "    'Seat comfort': 3,\n",
    "    'Cleanliness': 4,\n",
    "    'Checkin service': 4,\n",
    "    'Online boarding': 5\n",
    "})\n"
   ]
  },
  {
   "cell_type": "markdown",
   "id": "6226cac4",
   "metadata": {},
   "source": [
    "\n",
    "## ✅ Conclusion\n",
    "\n",
    "This model estimates passenger satisfaction using airline service feedback. Airlines could use it to flag potentially dissatisfied customers in real time and offer timely intervention.\n"
   ]
  }
 ],
 "metadata": {},
 "nbformat": 4,
 "nbformat_minor": 5
}
