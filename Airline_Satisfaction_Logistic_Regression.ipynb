{
 "cells": [
  {
   "cell_type": "markdown",
   "id": "3c38a42b",
   "metadata": {},
   "source": [
    "\n",
    "# ✈️ Airline Customer Satisfaction – Logistic Regression Analysis\n",
    "\n",
    "This notebook analyzes whether in-flight entertainment affects customer satisfaction using logistic regression. It includes data cleaning, feature encoding, model training, and evaluation.\n"
   ]
  },
  {
   "cell_type": "markdown",
   "id": "9991678c",
   "metadata": {},
   "source": [
    "## 📦 Import Libraries"
   ]
  },
  {
   "cell_type": "code",
   "execution_count": null,
   "id": "b82129c7",
   "metadata": {},
   "outputs": [],
   "source": [
    "\n",
    "import numpy as np\n",
    "import pandas as pd\n",
    "import matplotlib.pyplot as plt\n",
    "import seaborn as sns\n",
    "\n",
    "from sklearn.preprocessing import OneHotEncoder\n",
    "from sklearn.model_selection import train_test_split\n",
    "from sklearn.linear_model import LogisticRegression\n",
    "from sklearn import metrics\n",
    "\n",
    "import warnings\n",
    "warnings.filterwarnings('ignore')\n"
   ]
  },
  {
   "cell_type": "markdown",
   "id": "b6dac9b5",
   "metadata": {},
   "source": [
    "## 📂 Load Dataset"
   ]
  },
  {
   "cell_type": "code",
   "execution_count": null,
   "id": "132bf12a",
   "metadata": {},
   "outputs": [],
   "source": [
    "\n",
    "df = pd.read_csv(\"Invistico_Airline.csv\")\n",
    "df.head(10)\n"
   ]
  },
  {
   "cell_type": "markdown",
   "id": "fdc04854",
   "metadata": {},
   "source": [
    "## 🔍 Initial Exploration"
   ]
  },
  {
   "cell_type": "code",
   "execution_count": null,
   "id": "d142b3ce",
   "metadata": {},
   "outputs": [],
   "source": [
    "\n",
    "df.dtypes\n",
    "df['satisfaction'].value_counts(dropna=False)\n"
   ]
  },
  {
   "cell_type": "markdown",
   "id": "0b7cb9d0",
   "metadata": {},
   "source": [
    "## 🧹 Handle Missing Values"
   ]
  },
  {
   "cell_type": "code",
   "execution_count": null,
   "id": "551ec0da",
   "metadata": {},
   "outputs": [],
   "source": [
    "\n",
    "df = df.dropna(axis=0).reset_index(drop=True)\n",
    "df = df.astype({\"Inflight entertainment\": float})\n"
   ]
  },
  {
   "cell_type": "markdown",
   "id": "b7df1be3",
   "metadata": {},
   "source": [
    "## 🔢 Encode Target Variable"
   ]
  },
  {
   "cell_type": "code",
   "execution_count": null,
   "id": "11a2da1e",
   "metadata": {},
   "outputs": [],
   "source": [
    "\n",
    "encoder = OneHotEncoder(drop='first')\n",
    "df['satisfaction'] = encoder.fit_transform(df[['satisfaction']]).toarray()\n",
    "df.head(10)\n"
   ]
  },
  {
   "cell_type": "markdown",
   "id": "c1451284",
   "metadata": {},
   "source": [
    "## ✂️ Train-Test Split"
   ]
  },
  {
   "cell_type": "code",
   "execution_count": null,
   "id": "a8cc5e5d",
   "metadata": {},
   "outputs": [],
   "source": [
    "\n",
    "X = df[['Inflight entertainment']]\n",
    "y = df['satisfaction']\n",
    "\n",
    "X_train, X_test, y_train, y_test = train_test_split(X, y, test_size=0.3, random_state=42)\n"
   ]
  },
  {
   "cell_type": "markdown",
   "id": "224a9530",
   "metadata": {},
   "source": [
    "## 🤖 Train Logistic Regression Model"
   ]
  },
  {
   "cell_type": "code",
   "execution_count": null,
   "id": "c8aa1bfb",
   "metadata": {},
   "outputs": [],
   "source": [
    "\n",
    "clf = LogisticRegression()\n",
    "clf.fit(X_train, y_train)\n",
    "\n",
    "print(\"Model Coefficients:\", clf.coef_)\n",
    "print(\"Intercept:\", clf.intercept_)\n"
   ]
  },
  {
   "cell_type": "markdown",
   "id": "40ff827e",
   "metadata": {},
   "source": [
    "## 📉 Logistic Regression Curve"
   ]
  },
  {
   "cell_type": "code",
   "execution_count": null,
   "id": "6c7d714b",
   "metadata": {},
   "outputs": [],
   "source": [
    "\n",
    "sns.regplot(x=\"Inflight entertainment\", y=\"satisfaction\", data=df, logistic=True, ci=None)\n",
    "plt.title(\"Logistic Regression Curve\")\n",
    "plt.show()\n"
   ]
  },
  {
   "cell_type": "markdown",
   "id": "151afdde",
   "metadata": {},
   "source": [
    "## 📈 Model Evaluation"
   ]
  },
  {
   "cell_type": "code",
   "execution_count": null,
   "id": "d41f661e",
   "metadata": {},
   "outputs": [],
   "source": [
    "\n",
    "y_pred = clf.predict(X_test)\n",
    "\n",
    "print(\"Accuracy:\", \"%.6f\" % metrics.accuracy_score(y_test, y_pred))\n",
    "print(\"Precision:\", \"%.6f\" % metrics.precision_score(y_test, y_pred))\n",
    "print(\"Recall:\", \"%.6f\" % metrics.recall_score(y_test, y_pred))\n",
    "print(\"F1 Score:\", \"%.6f\" % metrics.f1_score(y_test, y_pred))\n"
   ]
  },
  {
   "cell_type": "markdown",
   "id": "20512053",
   "metadata": {},
   "source": [
    "## 📊 Confusion Matrix"
   ]
  },
  {
   "cell_type": "code",
   "execution_count": null,
   "id": "97a6d6bb",
   "metadata": {},
   "outputs": [],
   "source": [
    "\n",
    "cm = metrics.confusion_matrix(y_test, y_pred, labels=clf.classes_)\n",
    "disp = metrics.ConfusionMatrixDisplay(confusion_matrix=cm, display_labels=clf.classes_)\n",
    "disp.plot()\n",
    "plt.title(\"Confusion Matrix\")\n",
    "plt.show()\n"
   ]
  },
  {
   "cell_type": "markdown",
   "id": "f9d0c542",
   "metadata": {},
   "source": [
    "\n",
    "## ✅ Conclusion\n",
    "\n",
    "The logistic regression model reveals a strong positive relationship between in-flight entertainment and customer satisfaction. With only one predictor, the model achieves solid performance, highlighting how service quality can impact customer experience.\n"
   ]
  }
 ],
 "metadata": {},
 "nbformat": 4,
 "nbformat_minor": 5
}
