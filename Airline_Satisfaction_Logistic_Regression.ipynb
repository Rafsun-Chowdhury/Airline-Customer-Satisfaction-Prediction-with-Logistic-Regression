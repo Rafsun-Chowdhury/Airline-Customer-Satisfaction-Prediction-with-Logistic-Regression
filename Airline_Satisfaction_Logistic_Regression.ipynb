{
 "cells": [
  {
   "cell_type": "markdown",
   "id": "41fac8c3",
   "metadata": {},
   "source": [
    "\n",
    "# ✈️ Airline Customer Satisfaction – Logistic Regression Analysis\n",
    "\n",
    "This notebook explores whether in-flight entertainment influences customer satisfaction using logistic regression. The analysis involves data cleaning, feature encoding, model training, and evaluation based on logistic regression.\n"
   ]
  },
  {
   "cell_type": "markdown",
   "id": "fa1c6008",
   "metadata": {},
   "source": [
    "## 📦 Import Libraries"
   ]
  },
  {
   "cell_type": "code",
   "execution_count": null,
   "id": "29d6b9c9",
   "metadata": {},
   "outputs": [],
   "source": [
    "\n",
    "import numpy as np\n",
    "import pandas as pd\n",
    "import matplotlib.pyplot as plt\n",
    "import seaborn as sns\n",
    "\n",
    "from sklearn.preprocessing import OneHotEncoder\n",
    "from sklearn.model_selection import train_test_split\n",
    "from sklearn.linear_model import LogisticRegression\n",
    "from sklearn import metrics\n",
    "\n",
    "import warnings\n",
    "warnings.filterwarnings('ignore')\n"
   ]
  },
  {
   "cell_type": "markdown",
   "id": "572355fc",
   "metadata": {},
   "source": [
    "## 📂 Load Dataset"
   ]
  },
  {
   "cell_type": "code",
   "execution_count": null,
   "id": "479fc5ad",
   "metadata": {},
   "outputs": [],
   "source": [
    "\n",
    "# Ensure this CSV is in the same directory when running locally or on Colab\n",
    "df = pd.read_csv(\"Invistico_Airline.csv\")\n",
    "df.head()\n"
   ]
  },
  {
   "cell_type": "markdown",
   "id": "e249077b",
   "metadata": {},
   "source": [
    "## 🔍 Data Exploration"
   ]
  },
  {
   "cell_type": "code",
   "execution_count": null,
   "id": "6558c8bf",
   "metadata": {},
   "outputs": [],
   "source": [
    "\n",
    "df.info()\n",
    "df['satisfaction'].value_counts(dropna=False)\n"
   ]
  },
  {
   "cell_type": "markdown",
   "id": "b7a6c8be",
   "metadata": {},
   "source": [
    "## 🧹 Handle Missing Values"
   ]
  },
  {
   "cell_type": "code",
   "execution_count": null,
   "id": "4e725068",
   "metadata": {},
   "outputs": [],
   "source": [
    "\n",
    "df = df.dropna(axis=0).reset_index(drop=True)\n",
    "df = df.astype({\"Inflight entertainment\": float})\n"
   ]
  },
  {
   "cell_type": "markdown",
   "id": "34c03ae3",
   "metadata": {},
   "source": [
    "## 🔢 Encode Satisfaction Column"
   ]
  },
  {
   "cell_type": "code",
   "execution_count": null,
   "id": "843d896c",
   "metadata": {},
   "outputs": [],
   "source": [
    "\n",
    "encoder = OneHotEncoder(drop='first')\n",
    "df['satisfaction'] = encoder.fit_transform(df[['satisfaction']]).toarray()\n",
    "df.head()\n"
   ]
  },
  {
   "cell_type": "markdown",
   "id": "6ef338a6",
   "metadata": {},
   "source": [
    "## ✂️ Split Data into Train and Test Sets"
   ]
  },
  {
   "cell_type": "code",
   "execution_count": null,
   "id": "082bb748",
   "metadata": {},
   "outputs": [],
   "source": [
    "\n",
    "X = df[['Inflight entertainment']]\n",
    "y = df['satisfaction']\n",
    "\n",
    "X_train, X_test, y_train, y_test = train_test_split(X, y, test_size=0.3, random_state=42)\n"
   ]
  },
  {
   "cell_type": "markdown",
   "id": "0c49ab8c",
   "metadata": {},
   "source": [
    "## 🤖 Train Logistic Regression Model"
   ]
  },
  {
   "cell_type": "code",
   "execution_count": null,
   "id": "59fdcae1",
   "metadata": {},
   "outputs": [],
   "source": [
    "\n",
    "model = LogisticRegression()\n",
    "model.fit(X_train, y_train)\n",
    "\n",
    "print(\"Model Coefficients:\", model.coef_)\n",
    "print(\"Intercept:\", model.intercept_)\n"
   ]
  },
  {
   "cell_type": "markdown",
   "id": "fc70ff65",
   "metadata": {},
   "source": [
    "## 📉 Logistic Regression Curve"
   ]
  },
  {
   "cell_type": "code",
   "execution_count": null,
   "id": "1c3f3374",
   "metadata": {},
   "outputs": [],
   "source": [
    "\n",
    "sns.regplot(x=\"Inflight entertainment\", y=\"satisfaction\", data=df, logistic=True, ci=None)\n",
    "plt.title(\"Logistic Regression Curve\")\n",
    "plt.xlabel(\"Inflight Entertainment\")\n",
    "plt.ylabel(\"Satisfaction (Encoded)\")\n",
    "plt.grid(True)\n",
    "plt.show()\n"
   ]
  },
  {
   "cell_type": "markdown",
   "id": "c77e04f3",
   "metadata": {},
   "source": [
    "## 📈 Model Evaluation"
   ]
  },
  {
   "cell_type": "code",
   "execution_count": null,
   "id": "1111659d",
   "metadata": {},
   "outputs": [],
   "source": [
    "\n",
    "y_pred = model.predict(X_test)\n",
    "\n",
    "print(\"Accuracy:\", \"%.4f\" % metrics.accuracy_score(y_test, y_pred))\n",
    "print(\"Precision:\", \"%.4f\" % metrics.precision_score(y_test, y_pred))\n",
    "print(\"Recall:\", \"%.4f\" % metrics.recall_score(y_test, y_pred))\n",
    "print(\"F1 Score:\", \"%.4f\" % metrics.f1_score(y_test, y_pred))\n"
   ]
  },
  {
   "cell_type": "markdown",
   "id": "5ba9993c",
   "metadata": {},
   "source": [
    "## 📊 Confusion Matrix"
   ]
  },
  {
   "cell_type": "code",
   "execution_count": null,
   "id": "a7c22e53",
   "metadata": {},
   "outputs": [],
   "source": [
    "\n",
    "cm = metrics.confusion_matrix(y_test, y_pred, labels=model.classes_)\n",
    "disp = metrics.ConfusionMatrixDisplay(confusion_matrix=cm, display_labels=model.classes_)\n",
    "disp.plot()\n",
    "plt.title(\"Confusion Matrix\")\n",
    "plt.show()\n"
   ]
  },
  {
   "cell_type": "markdown",
   "id": "eb13e80b",
   "metadata": {},
   "source": [
    "\n",
    "## ✅ Conclusion\n",
    "\n",
    "The logistic regression model shows that in-flight entertainment is a strong predictor of customer satisfaction. The model performs well with a single feature, offering insight into how service improvements can enhance customer experience in the airline industry.\n"
   ]
  }
 ],
 "metadata": {},
 "nbformat": 4,
 "nbformat_minor": 5
}
