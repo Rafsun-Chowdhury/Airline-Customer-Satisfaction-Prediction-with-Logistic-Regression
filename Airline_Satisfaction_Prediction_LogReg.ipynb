{
 "cells": [
  {
   "cell_type": "markdown",
   "id": "62a00aa8",
   "metadata": {},
   "source": [
    "\n",
    "# ✈️ Who's Happy in the Sky? Predicting Passenger Satisfaction to Reduce Churn\n",
    "\n",
    "This project builds a logistic regression model to predict airline passenger satisfaction based on service features. It simulates how airlines could identify dissatisfied passengers early and take action to improve experience and reduce churn.\n"
   ]
  },
  {
   "cell_type": "markdown",
   "id": "61c2cec7",
   "metadata": {},
   "source": [
    "## 📂 Load Dataset"
   ]
  },
  {
   "cell_type": "code",
   "execution_count": null,
   "id": "63059a3b",
   "metadata": {},
   "outputs": [],
   "source": [
    "\n",
    "import pandas as pd\n",
    "import numpy as np\n",
    "import matplotlib.pyplot as plt\n",
    "import seaborn as sns\n",
    "\n",
    "from sklearn.linear_model import LogisticRegression\n",
    "from sklearn.model_selection import train_test_split\n",
    "from sklearn.metrics import classification_report, confusion_matrix, ConfusionMatrixDisplay\n",
    "\n",
    "import warnings\n",
    "warnings.filterwarnings(\"ignore\")\n",
    "\n",
    "# Download dataset if running on Colab\n",
    "if \"google.colab\" in str(get_ipython()):\n",
    "    !wget https://raw.githubusercontent.com/Rafsun-Chowdhury/Airline-Customer-Satisfaction-Prediction-with-Logistic-Regression/main/Invistico_Airline.csv\n",
    "\n",
    "df = pd.read_csv(\"Invistico_Airline.csv\")\n",
    "df.head()\n"
   ]
  },
  {
   "cell_type": "markdown",
   "id": "1570040e",
   "metadata": {},
   "source": [
    "## 🧹 Data Preparation"
   ]
  },
  {
   "cell_type": "code",
   "execution_count": null,
   "id": "3cfa9639",
   "metadata": {},
   "outputs": [],
   "source": [
    "\n",
    "# Drop initial NaNs\n",
    "df = df.dropna().reset_index(drop=True)\n",
    "\n",
    "# Map satisfaction to binary values\n",
    "df['satisfaction'] = df['satisfaction'].map({'neutral or dissatisfied': 0, 'satisfied': 1})\n",
    "\n",
    "# Drop any NaNs created by the mapping\n",
    "df = df.dropna(subset=['satisfaction'])\n",
    "\n",
    "# Confirm class distribution\n",
    "print(\"Class balance (0 = not satisfied, 1 = satisfied):\")\n",
    "print(df['satisfaction'].value_counts())\n",
    "\n",
    "# Convert inflight entertainment to float\n",
    "df['Inflight entertainment'] = df['Inflight entertainment'].astype(float)\n",
    "df[['Inflight entertainment', 'satisfaction']].head()\n"
   ]
  },
  {
   "cell_type": "markdown",
   "id": "2fde1080",
   "metadata": {},
   "source": [
    "## 🤖 Train Logistic Regression Model"
   ]
  },
  {
   "cell_type": "code",
   "execution_count": null,
   "id": "3a0aa4af",
   "metadata": {},
   "outputs": [],
   "source": [
    "\n",
    "X = df[['Inflight entertainment']]\n",
    "y = df['satisfaction']\n",
    "\n",
    "X_train, X_test, y_train, y_test = train_test_split(X, y, test_size=0.3, random_state=42, stratify=y)\n",
    "\n",
    "model = LogisticRegression()\n",
    "model.fit(X_train, y_train)\n",
    "\n",
    "y_pred = model.predict(X_test)\n",
    "\n",
    "print(\"Classification Report:\")\n",
    "print(classification_report(y_test, y_pred))\n",
    "\n",
    "ConfusionMatrixDisplay.from_estimator(model, X_test, y_test)\n"
   ]
  },
  {
   "cell_type": "markdown",
   "id": "4a562a4d",
   "metadata": {},
   "source": [
    "## 📊 Visualizing Logistic Curve"
   ]
  },
  {
   "cell_type": "code",
   "execution_count": null,
   "id": "01ea411e",
   "metadata": {},
   "outputs": [],
   "source": [
    "\n",
    "sns.regplot(x='Inflight entertainment', y='satisfaction', data=df, logistic=True, ci=None)\n",
    "plt.title(\"Logistic Curve: Inflight Entertainment vs. Satisfaction\")\n",
    "plt.grid(True)\n",
    "plt.show()\n"
   ]
  },
  {
   "cell_type": "markdown",
   "id": "ed092e82",
   "metadata": {},
   "source": [
    "## 💡 Predict Satisfaction Likelihood"
   ]
  },
  {
   "cell_type": "code",
   "execution_count": null,
   "id": "49c75cc4",
   "metadata": {},
   "outputs": [],
   "source": [
    "\n",
    "def predict_satisfaction_risk(entertainment_rating):\n",
    "    proba = model.predict_proba([[entertainment_rating]])[0][1]\n",
    "    print(f\"Satisfaction likelihood at entertainment rating {entertainment_rating}/5: {proba*100:.1f}%\")\n",
    "\n",
    "# Example\n",
    "predict_satisfaction_risk(2.0)\n"
   ]
  },
  {
   "cell_type": "markdown",
   "id": "5839e725",
   "metadata": {},
   "source": [
    "\n",
    "## ✅ Conclusion\n",
    "\n",
    "This project demonstrates how airlines can use logistic regression to estimate passenger satisfaction in real time based on service feedback like inflight entertainment. The simplified prediction function can be integrated into customer feedback dashboards to flag unhappy customers before they churn.\n"
   ]
  }
 ],
 "metadata": {},
 "nbformat": 4,
 "nbformat_minor": 5
}
