{
 "cells": [
  {
   "cell_type": "markdown",
   "id": "27495203",
   "metadata": {},
   "source": [
    "\n",
    "# ✈️ Who's Happy in the Sky? Predicting Passenger Satisfaction to Reduce Churn\n",
    "\n",
    "This project builds a logistic regression model to predict airline passenger satisfaction based on service features. It simulates how airlines could identify dissatisfied passengers early and take action to improve experience and reduce churn.\n"
   ]
  },
  {
   "cell_type": "markdown",
   "id": "a7f48b02",
   "metadata": {},
   "source": [
    "## 📂 Load Dataset"
   ]
  },
  {
   "cell_type": "code",
   "execution_count": null,
   "id": "99c68022",
   "metadata": {},
   "outputs": [],
   "source": [
    "\n",
    "import pandas as pd\n",
    "import numpy as np\n",
    "import matplotlib.pyplot as plt\n",
    "import seaborn as sns\n",
    "\n",
    "from sklearn.linear_model import LogisticRegression\n",
    "from sklearn.model_selection import train_test_split\n",
    "from sklearn.metrics import classification_report, confusion_matrix, ConfusionMatrixDisplay\n",
    "\n",
    "import warnings\n",
    "warnings.filterwarnings(\"ignore\")\n",
    "\n",
    "# Download dataset if running on Colab\n",
    "if \"google.colab\" in str(get_ipython()):\n",
    "    !wget https://raw.githubusercontent.com/Rafsun-Chowdhury/Airline-Customer-Satisfaction-Prediction-with-Logistic-Regression/main/Invistico_Airline.csv\n",
    "\n",
    "df = pd.read_csv(\"Invistico_Airline.csv\")\n",
    "df.head()\n"
   ]
  },
  {
   "cell_type": "markdown",
   "id": "456a471d",
   "metadata": {},
   "source": [
    "## 🧹 Data Preparation"
   ]
  },
  {
   "cell_type": "code",
   "execution_count": null,
   "id": "970e96ee",
   "metadata": {},
   "outputs": [],
   "source": [
    "\n",
    "# Drop missing rows\n",
    "df = df.dropna().reset_index(drop=True)\n",
    "\n",
    "# Convert satisfaction to binary\n",
    "df['satisfaction'] = df['satisfaction'].map({'neutral or dissatisfied': 0, 'satisfied': 1})\n",
    "\n",
    "# Convert inflight entertainment to numeric if needed\n",
    "df['Inflight entertainment'] = df['Inflight entertainment'].astype(float)\n",
    "\n",
    "df[['Inflight entertainment', 'satisfaction']].head()\n"
   ]
  },
  {
   "cell_type": "markdown",
   "id": "bb11e972",
   "metadata": {},
   "source": [
    "## 🤖 Train Logistic Regression Model"
   ]
  },
  {
   "cell_type": "code",
   "execution_count": null,
   "id": "852ce573",
   "metadata": {},
   "outputs": [],
   "source": [
    "\n",
    "X = df[['Inflight entertainment']]\n",
    "y = df['satisfaction']\n",
    "\n",
    "X_train, X_test, y_train, y_test = train_test_split(X, y, test_size=0.3, random_state=42)\n",
    "\n",
    "model = LogisticRegression()\n",
    "model.fit(X_train, y_train)\n",
    "\n",
    "y_pred = model.predict(X_test)\n",
    "\n",
    "print(\"Classification Report:\")\n",
    "print(classification_report(y_test, y_pred))\n",
    "\n",
    "ConfusionMatrixDisplay.from_estimator(model, X_test, y_test)\n"
   ]
  },
  {
   "cell_type": "markdown",
   "id": "ad216fc5",
   "metadata": {},
   "source": [
    "## 📊 Visualizing Logistic Curve"
   ]
  },
  {
   "cell_type": "code",
   "execution_count": null,
   "id": "8c01cf66",
   "metadata": {},
   "outputs": [],
   "source": [
    "\n",
    "sns.regplot(x='Inflight entertainment', y='satisfaction', data=df, logistic=True, ci=None)\n",
    "plt.title(\"Logistic Curve: Inflight Entertainment vs. Satisfaction\")\n",
    "plt.grid(True)\n",
    "plt.show()\n"
   ]
  },
  {
   "cell_type": "markdown",
   "id": "5c00908f",
   "metadata": {},
   "source": [
    "## 💡 Predict Satisfaction Likelihood"
   ]
  },
  {
   "cell_type": "code",
   "execution_count": null,
   "id": "48a88d89",
   "metadata": {},
   "outputs": [],
   "source": [
    "\n",
    "def predict_satisfaction_risk(entertainment_rating):\n",
    "    proba = model.predict_proba([[entertainment_rating]])[0][1]\n",
    "    print(f\"Satisfaction likelihood at entertainment rating {entertainment_rating}/5: {proba*100:.1f}%\")\n",
    "\n",
    "# Example\n",
    "predict_satisfaction_risk(2.0)\n"
   ]
  },
  {
   "cell_type": "markdown",
   "id": "ab8a36bc",
   "metadata": {},
   "source": [
    "\n",
    "## ✅ Conclusion\n",
    "\n",
    "This project demonstrates how airlines can use logistic regression to estimate passenger satisfaction in real time based on service feedback like inflight entertainment. The simplified prediction function can be integrated into customer feedback dashboards to flag unhappy customers before they churn.\n"
   ]
  }
 ],
 "metadata": {},
 "nbformat": 4,
 "nbformat_minor": 5
}
