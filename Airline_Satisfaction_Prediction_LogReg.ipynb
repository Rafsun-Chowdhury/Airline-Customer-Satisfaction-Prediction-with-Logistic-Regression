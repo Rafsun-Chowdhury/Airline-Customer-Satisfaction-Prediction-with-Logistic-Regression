{
 "cells": [
  {
   "cell_type": "markdown",
   "id": "e7d5584a",
   "metadata": {},
   "source": [
    "\n",
    "# ✈️ Who's Happy in the Sky? Predicting Passenger Satisfaction to Reduce Churn\n",
    "\n",
    "This project builds a logistic regression model to predict airline passenger satisfaction based on service features. It simulates how airlines could identify dissatisfied passengers early and take action to improve experience and reduce churn.\n"
   ]
  },
  {
   "cell_type": "markdown",
   "id": "ecc336a0",
   "metadata": {},
   "source": [
    "## 📂 Load Dataset"
   ]
  },
  {
   "cell_type": "code",
   "execution_count": null,
   "id": "7c2ec80a",
   "metadata": {},
   "outputs": [],
   "source": [
    "\n",
    "import pandas as pd\n",
    "import numpy as np\n",
    "import matplotlib.pyplot as plt\n",
    "import seaborn as sns\n",
    "\n",
    "from sklearn.linear_model import LogisticRegression\n",
    "from sklearn.model_selection import train_test_split\n",
    "from sklearn.metrics import classification_report, confusion_matrix, ConfusionMatrixDisplay\n",
    "\n",
    "import warnings\n",
    "warnings.filterwarnings(\"ignore\")\n",
    "\n",
    "# Download dataset if on Colab\n",
    "if \"google.colab\" in str(get_ipython()):\n",
    "    !wget https://raw.githubusercontent.com/Rafsun-Chowdhury/Airline-Customer-Satisfaction-Prediction-with-Logistic-Regression/main/Invistico_Airline.csv\n",
    "\n",
    "df = pd.read_csv(\"Invistico_Airline.csv\")\n",
    "df.head()\n"
   ]
  },
  {
   "cell_type": "markdown",
   "id": "abdc44c6",
   "metadata": {},
   "source": [
    "## 🧹 Clean and Prepare Data"
   ]
  },
  {
   "cell_type": "code",
   "execution_count": null,
   "id": "8868b0a1",
   "metadata": {},
   "outputs": [],
   "source": [
    "\n",
    "# Drop missing values in key columns\n",
    "df = df.dropna(subset=['Inflight entertainment', 'satisfaction']).reset_index(drop=True)\n",
    "\n",
    "# Map satisfaction to binary (1 = satisfied, 0 = not)\n",
    "df['satisfaction'] = df['satisfaction'].map({'neutral or dissatisfied': 0, 'satisfied': 1})\n",
    "df = df.dropna(subset=['satisfaction'])\n",
    "\n",
    "# Convert inflight entertainment to numeric\n",
    "df['Inflight entertainment'] = df['Inflight entertainment'].astype(float)\n",
    "\n",
    "# Confirm class distribution\n",
    "print(\"Class balance:\")\n",
    "print(df['satisfaction'].value_counts())\n"
   ]
  },
  {
   "cell_type": "markdown",
   "id": "7b5aa668",
   "metadata": {},
   "source": [
    "## 🤖 Train Logistic Regression Model"
   ]
  },
  {
   "cell_type": "code",
   "execution_count": null,
   "id": "20b9fd3f",
   "metadata": {},
   "outputs": [],
   "source": [
    "\n",
    "X = df[['Inflight entertainment']]\n",
    "y = df['satisfaction']\n",
    "\n",
    "X_train, X_test, y_train, y_test = train_test_split(X, y, test_size=0.3, random_state=42, stratify=y)\n",
    "\n",
    "model = LogisticRegression()\n",
    "model.fit(X_train, y_train)\n",
    "\n",
    "y_pred = model.predict(X_test)\n",
    "\n",
    "print(\"Classification Report:\")\n",
    "print(classification_report(y_test, y_pred))\n",
    "ConfusionMatrixDisplay.from_estimator(model, X_test, y_test)\n"
   ]
  },
  {
   "cell_type": "markdown",
   "id": "6ff809bd",
   "metadata": {},
   "source": [
    "## 📊 Logistic Curve Visualization"
   ]
  },
  {
   "cell_type": "code",
   "execution_count": null,
   "id": "7888dcda",
   "metadata": {},
   "outputs": [],
   "source": [
    "\n",
    "sns.regplot(x='Inflight entertainment', y='satisfaction', data=df, logistic=True, ci=None)\n",
    "plt.title(\"Inflight Entertainment vs Satisfaction (Logistic Regression Curve)\")\n",
    "plt.grid(True)\n",
    "plt.show()\n"
   ]
  },
  {
   "cell_type": "markdown",
   "id": "4408f09b",
   "metadata": {},
   "source": [
    "## 🔮 Predict Satisfaction from Rating"
   ]
  },
  {
   "cell_type": "code",
   "execution_count": null,
   "id": "3724df68",
   "metadata": {},
   "outputs": [],
   "source": [
    "\n",
    "def predict_satisfaction_risk(entertainment_rating):\n",
    "    proba = model.predict_proba([[entertainment_rating]])[0][1]\n",
    "    print(f\"Satisfaction likelihood at rating {entertainment_rating}/5: {proba*100:.1f}%\")\n",
    "\n",
    "# Example usage\n",
    "predict_satisfaction_risk(3.0)\n"
   ]
  },
  {
   "cell_type": "markdown",
   "id": "5f3c69a4",
   "metadata": {},
   "source": [
    "\n",
    "## ✅ Conclusion\n",
    "\n",
    "With just a single input (inflight entertainment rating), this logistic regression model estimates passenger satisfaction with over 80% accuracy. This simple tool could help airlines proactively respond to low satisfaction in real-time.\n"
   ]
  }
 ],
 "metadata": {},
 "nbformat": 4,
 "nbformat_minor": 5
}
