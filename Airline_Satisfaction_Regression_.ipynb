{
 "cells": [
  {
   "cell_type": "markdown",
   "id": "64f186fa",
   "metadata": {},
   "source": [
    "\n",
    "# ✈️ What Makes a Passenger Truly Satisfied?  \n",
    "## Predicting Airline Satisfaction Scores Using Service Features\n",
    "\n",
    "This project builds a regression model to estimate satisfaction scores from service experience features such as inflight entertainment, seat comfort, and online boarding. It helps airlines understand what drives satisfaction among happy passengers.\n"
   ]
  },
  {
   "cell_type": "markdown",
   "id": "b321511c",
   "metadata": {},
   "source": [
    "## 📂 Load Dataset (with Colab Compatibility)"
   ]
  },
  {
   "cell_type": "code",
   "execution_count": null,
   "id": "12ffea46",
   "metadata": {},
   "outputs": [],
   "source": [
    "\n",
    "import pandas as pd\n",
    "import numpy as np\n",
    "import matplotlib.pyplot as plt\n",
    "import seaborn as sns\n",
    "\n",
    "from sklearn.model_selection import train_test_split\n",
    "from sklearn.linear_model import LinearRegression\n",
    "from sklearn.metrics import mean_squared_error, mean_absolute_error, r2_score\n",
    "\n",
    "import warnings\n",
    "warnings.filterwarnings(\"ignore\")\n",
    "\n",
    "# Download from GitHub if in Colab\n",
    "if \"google.colab\" in str(get_ipython()):\n",
    "    !wget -O Invistico_Airline.csv https://raw.githubusercontent.com/Rafsun-Chowdhury/Airline-Customer-Satisfaction-Prediction-with-Logistic-Regression/main/Invistico_Airline.csv\n",
    "\n",
    "df = pd.read_csv(\"Invistico_Airline.csv\")\n",
    "df.head()\n"
   ]
  },
  {
   "cell_type": "markdown",
   "id": "145063b7",
   "metadata": {},
   "source": [
    "## 🧹 Clean and Prepare Data"
   ]
  },
  {
   "cell_type": "code",
   "execution_count": null,
   "id": "5b83791e",
   "metadata": {},
   "outputs": [],
   "source": [
    "\n",
    "df = df[df['satisfaction'] == 'satisfied'].copy()\n",
    "\n",
    "# Select relevant features\n",
    "features = [\n",
    "    'Inflight entertainment', 'Seat comfort', 'Cleanliness',\n",
    "    'Checkin service', 'Online boarding'\n",
    "]\n",
    "\n",
    "df = df.dropna(subset=features).reset_index(drop=True)\n",
    "\n",
    "# Create a synthetic satisfaction score (average of feature ratings)\n",
    "df['satisfaction_score'] = df[features].mean(axis=1)\n",
    "\n",
    "df[features + ['satisfaction_score']].head()\n"
   ]
  },
  {
   "cell_type": "markdown",
   "id": "6b4b2220",
   "metadata": {},
   "source": [
    "## 📊 Correlation Heatmap"
   ]
  },
  {
   "cell_type": "code",
   "execution_count": null,
   "id": "fb582efd",
   "metadata": {},
   "outputs": [],
   "source": [
    "\n",
    "sns.heatmap(df[features + ['satisfaction_score']].corr(), annot=True, cmap='viridis')\n",
    "plt.title(\"Feature Correlation with Satisfaction Score\")\n",
    "plt.show()\n"
   ]
  },
  {
   "cell_type": "markdown",
   "id": "fb8242f2",
   "metadata": {},
   "source": [
    "## 🤖 Train Regression Model"
   ]
  },
  {
   "cell_type": "code",
   "execution_count": null,
   "id": "fa618e70",
   "metadata": {},
   "outputs": [],
   "source": [
    "\n",
    "X = df[features]\n",
    "y = df['satisfaction_score']\n",
    "\n",
    "X_train, X_test, y_train, y_test = train_test_split(X, y, test_size=0.3, random_state=42)\n",
    "\n",
    "model = LinearRegression()\n",
    "model.fit(X_train, y_train)\n",
    "\n",
    "y_pred = model.predict(X_test)\n",
    "\n",
    "mae = mean_absolute_error(y_test, y_pred)\n",
    "rmse = mean_squared_error(y_test, y_pred, squared=False)\n",
    "r2 = r2_score(y_test, y_pred)\n",
    "\n",
    "print(f\"MAE: {mae:.2f}\")\n",
    "print(f\"RMSE: {rmse:.2f}\")\n",
    "print(f\"R² Score: {r2:.2f}\")\n"
   ]
  },
  {
   "cell_type": "markdown",
   "id": "56b36b2d",
   "metadata": {},
   "source": [
    "## 🔮 Predict Satisfaction Score from New Input"
   ]
  },
  {
   "cell_type": "code",
   "execution_count": null,
   "id": "23a233e3",
   "metadata": {},
   "outputs": [],
   "source": [
    "\n",
    "def predict_satisfaction(input_dict):\n",
    "    sample = pd.DataFrame([input_dict])\n",
    "    score = model.predict(sample)[0]\n",
    "    print(f\"Estimated Satisfaction Score: {score:.2f} / 5\")\n",
    "\n",
    "# Example\n",
    "predict_satisfaction({\n",
    "    'Inflight entertainment': 4,\n",
    "    'Seat comfort': 3,\n",
    "    'Cleanliness': 4,\n",
    "    'Checkin service': 4,\n",
    "    'Online boarding': 5\n",
    "})\n"
   ]
  },
  {
   "cell_type": "markdown",
   "id": "78dc82af",
   "metadata": {},
   "source": [
    "\n",
    "## ✅ Conclusion\n",
    "\n",
    "This notebook demonstrates how service features can be used to predict nuanced satisfaction scores. It allows airlines to understand what service dimensions are most influential in shaping positive customer experiences.\n"
   ]
  }
 ],
 "metadata": {},
 "nbformat": 4,
 "nbformat_minor": 5
}
