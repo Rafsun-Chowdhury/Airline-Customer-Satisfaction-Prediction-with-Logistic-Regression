{
 "cells": [
  {
   "cell_type": "markdown",
   "id": "31bce619",
   "metadata": {},
   "source": [
    "\n",
    "# ✈️ What Makes a Passenger Truly Satisfied?  \n",
    "## Predicting Airline Satisfaction Scores Using Service Features\n",
    "\n",
    "This project uses regression modeling to estimate satisfaction scores for airline passengers based on service features such as inflight entertainment, seat comfort, and online boarding. Although all passengers are considered satisfied, their satisfaction levels still vary — and this project helps understand those patterns.\n"
   ]
  },
  {
   "cell_type": "markdown",
   "id": "7ee00c6b",
   "metadata": {},
   "source": [
    "## 📂 Load and Explore Dataset"
   ]
  },
  {
   "cell_type": "code",
   "execution_count": null,
   "id": "f3d0946b",
   "metadata": {},
   "outputs": [],
   "source": [
    "\n",
    "import pandas as pd\n",
    "import numpy as np\n",
    "import matplotlib.pyplot as plt\n",
    "import seaborn as sns\n",
    "\n",
    "from sklearn.model_selection import train_test_split\n",
    "from sklearn.linear_model import LinearRegression\n",
    "from sklearn.metrics import mean_squared_error, mean_absolute_error, r2_score\n",
    "\n",
    "import warnings\n",
    "warnings.filterwarnings(\"ignore\")\n",
    "\n",
    "# Load uploaded CSV\n",
    "df = pd.read_csv(\"/mnt/data/Invistico_Airline (1).csv\")\n",
    "df.head()\n"
   ]
  },
  {
   "cell_type": "markdown",
   "id": "4ef77de6",
   "metadata": {},
   "source": [
    "## 🧹 Clean and Prepare Data"
   ]
  },
  {
   "cell_type": "code",
   "execution_count": null,
   "id": "bdcbb371",
   "metadata": {},
   "outputs": [],
   "source": [
    "\n",
    "# Keep only rows where satisfaction == 'satisfied'\n",
    "df = df[df['satisfaction'] == 'satisfied'].copy()\n",
    "\n",
    "# Select features to use\n",
    "features = [\n",
    "    'Inflight entertainment', 'Seat comfort', 'Cleanliness',\n",
    "    'Checkin service', 'Online boarding'\n",
    "]\n",
    "\n",
    "# Drop rows with NaNs\n",
    "df = df.dropna(subset=features).reset_index(drop=True)\n",
    "\n",
    "# Average satisfaction score from the features\n",
    "df['satisfaction_score'] = df[features].mean(axis=1)\n",
    "\n",
    "df[features + ['satisfaction_score']].head()\n"
   ]
  },
  {
   "cell_type": "markdown",
   "id": "ca9af52e",
   "metadata": {},
   "source": [
    "## 📊 Feature Correlation and Distributions"
   ]
  },
  {
   "cell_type": "code",
   "execution_count": null,
   "id": "3c025d24",
   "metadata": {},
   "outputs": [],
   "source": [
    "\n",
    "sns.heatmap(df[features + ['satisfaction_score']].corr(), annot=True, cmap='coolwarm')\n",
    "plt.title(\"Feature Correlation with Satisfaction Score\")\n",
    "plt.show()\n"
   ]
  },
  {
   "cell_type": "markdown",
   "id": "dab794ed",
   "metadata": {},
   "source": [
    "## 🤖 Train Regression Model to Predict Satisfaction Score"
   ]
  },
  {
   "cell_type": "code",
   "execution_count": null,
   "id": "9517a2d5",
   "metadata": {},
   "outputs": [],
   "source": [
    "\n",
    "X = df[features]\n",
    "y = df['satisfaction_score']\n",
    "\n",
    "X_train, X_test, y_train, y_test = train_test_split(X, y, test_size=0.3, random_state=42)\n",
    "\n",
    "model = LinearRegression()\n",
    "model.fit(X_train, y_train)\n",
    "\n",
    "y_pred = model.predict(X_test)\n",
    "\n",
    "# Evaluation metrics\n",
    "mae = mean_absolute_error(y_test, y_pred)\n",
    "rmse = mean_squared_error(y_test, y_pred, squared=False)\n",
    "r2 = r2_score(y_test, y_pred)\n",
    "\n",
    "print(f\"MAE: {mae:.2f}\")\n",
    "print(f\"RMSE: {rmse:.2f}\")\n",
    "print(f\"R² Score: {r2:.2f}\")\n"
   ]
  },
  {
   "cell_type": "markdown",
   "id": "90d741cd",
   "metadata": {},
   "source": [
    "## 🔮 Predict a Passenger's Satisfaction Score"
   ]
  },
  {
   "cell_type": "code",
   "execution_count": null,
   "id": "97909cfd",
   "metadata": {},
   "outputs": [],
   "source": [
    "\n",
    "def predict_score(service_dict):\n",
    "    sample = pd.DataFrame([service_dict])\n",
    "    pred = model.predict(sample)[0]\n",
    "    print(f\"Estimated Satisfaction Score: {pred:.2f} / 5\")\n",
    "\n",
    "# Example\n",
    "predict_score({\n",
    "    'Inflight entertainment': 4,\n",
    "    'Seat comfort': 3,\n",
    "    'Cleanliness': 4,\n",
    "    'Checkin service': 4,\n",
    "    'Online boarding': 5\n",
    "})\n"
   ]
  },
  {
   "cell_type": "markdown",
   "id": "9849b34d",
   "metadata": {},
   "source": [
    "\n",
    "## ✅ Conclusion\n",
    "\n",
    "This regression model predicts nuanced satisfaction scores using airline service ratings. Even among \"satisfied\" passengers, the model helps understand which service features contribute most to their happiness — providing valuable insights for airline strategy and service optimization.\n"
   ]
  }
 ],
 "metadata": {},
 "nbformat": 4,
 "nbformat_minor": 5
}
