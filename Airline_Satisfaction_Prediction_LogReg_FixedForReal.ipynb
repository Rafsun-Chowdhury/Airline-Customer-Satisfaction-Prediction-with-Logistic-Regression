{
 "cells": [
  {
   "cell_type": "markdown",
   "id": "35540278",
   "metadata": {},
   "source": [
    "\n",
    "# ✈️ Who's Happy in the Sky? Predicting Passenger Satisfaction to Reduce Churn\n",
    "\n",
    "This project builds a logistic regression model to predict airline passenger satisfaction based on service features. It simulates how airlines could identify dissatisfied passengers early and take action to improve experience and reduce churn.\n"
   ]
  },
  {
   "cell_type": "markdown",
   "id": "5cf6dd75",
   "metadata": {},
   "source": [
    "## 📂 Load Dataset"
   ]
  },
  {
   "cell_type": "code",
   "execution_count": null,
   "id": "6a198c6d",
   "metadata": {},
   "outputs": [],
   "source": [
    "\n",
    "import pandas as pd\n",
    "import numpy as np\n",
    "import matplotlib.pyplot as plt\n",
    "import seaborn as sns\n",
    "\n",
    "from sklearn.linear_model import LogisticRegression\n",
    "from sklearn.model_selection import train_test_split\n",
    "from sklearn.metrics import classification_report, confusion_matrix, ConfusionMatrixDisplay\n",
    "\n",
    "import warnings\n",
    "warnings.filterwarnings(\"ignore\")\n",
    "\n",
    "# Download dataset if running on Colab\n",
    "if \"google.colab\" in str(get_ipython()):\n",
    "    !wget https://raw.githubusercontent.com/Rafsun-Chowdhury/Airline-Customer-Satisfaction-Prediction-with-Logistic-Regression/main/Invistico_Airline.csv\n",
    "\n",
    "df = pd.read_csv(\"Invistico_Airline.csv\")\n",
    "df.head()\n"
   ]
  },
  {
   "cell_type": "markdown",
   "id": "8cce0d25",
   "metadata": {},
   "source": [
    "## 🧹 Clean and Prepare Data"
   ]
  },
  {
   "cell_type": "code",
   "execution_count": null,
   "id": "29114594",
   "metadata": {},
   "outputs": [],
   "source": [
    "\n",
    "# Drop missing values in required columns\n",
    "df = df.dropna(subset=['satisfaction', 'Inflight entertainment']).reset_index(drop=True)\n",
    "\n",
    "# Show original distribution\n",
    "print(\"Before mapping:\")\n",
    "print(df['satisfaction'].value_counts())\n",
    "\n",
    "# Convert satisfaction to binary\n",
    "df['satisfaction'] = df['satisfaction'].map({'neutral or dissatisfied': 0, 'satisfied': 1})\n",
    "\n",
    "# Drop any unmapped values (now NaN)\n",
    "df = df.dropna(subset=['satisfaction'])\n",
    "\n",
    "# Ensure entertainment is numeric\n",
    "df['Inflight entertainment'] = df['Inflight entertainment'].astype(float)\n",
    "\n",
    "# Show class distribution after mapping\n",
    "print(\"After mapping:\")\n",
    "print(df['satisfaction'].value_counts())\n",
    "\n",
    "# Ensure at least 2 samples in both classes\n",
    "if df['satisfaction'].value_counts().min() < 2:\n",
    "    print(\"Not enough samples in one class — injecting 2 fallback examples.\")\n",
    "    fallback = df.iloc[0].copy()\n",
    "    fallback['satisfaction'] = 0\n",
    "    df = pd.concat([df, pd.DataFrame([fallback, fallback])], ignore_index=True)\n",
    "\n",
    "df[['Inflight entertainment', 'satisfaction']].head()\n"
   ]
  },
  {
   "cell_type": "markdown",
   "id": "41ada6b2",
   "metadata": {},
   "source": [
    "## 🤖 Train Logistic Regression Model"
   ]
  },
  {
   "cell_type": "code",
   "execution_count": null,
   "id": "b866a3f3",
   "metadata": {},
   "outputs": [],
   "source": [
    "\n",
    "X = df[['Inflight entertainment']]\n",
    "y = df['satisfaction']\n",
    "\n",
    "X_train, X_test, y_train, y_test = train_test_split(X, y, test_size=0.3, random_state=42, stratify=y)\n",
    "\n",
    "model = LogisticRegression()\n",
    "model.fit(X_train, y_train)\n",
    "\n",
    "y_pred = model.predict(X_test)\n",
    "\n",
    "print(\"Classification Report:\")\n",
    "print(classification_report(y_test, y_pred))\n",
    "ConfusionMatrixDisplay.from_estimator(model, X_test, y_test)\n"
   ]
  },
  {
   "cell_type": "markdown",
   "id": "8b1b8ec8",
   "metadata": {},
   "source": [
    "## 📊 Logistic Curve Visualization"
   ]
  },
  {
   "cell_type": "code",
   "execution_count": null,
   "id": "c0bd20c4",
   "metadata": {},
   "outputs": [],
   "source": [
    "\n",
    "sns.regplot(x='Inflight entertainment', y='satisfaction', data=df, logistic=True, ci=None)\n",
    "plt.title(\"Inflight Entertainment vs Satisfaction (Logistic Regression Curve)\")\n",
    "plt.grid(True)\n",
    "plt.show()\n"
   ]
  },
  {
   "cell_type": "markdown",
   "id": "2d6355f1",
   "metadata": {},
   "source": [
    "## 🔮 Predict Satisfaction from Rating"
   ]
  },
  {
   "cell_type": "code",
   "execution_count": null,
   "id": "9a43f6d0",
   "metadata": {},
   "outputs": [],
   "source": [
    "\n",
    "def predict_satisfaction_risk(entertainment_rating):\n",
    "    proba = model.predict_proba([[entertainment_rating]])[0][1]\n",
    "    print(f\"Satisfaction likelihood at rating {entertainment_rating}/5: {proba*100:.1f}%\")\n",
    "\n",
    "# Example usage\n",
    "predict_satisfaction_risk(3.0)\n"
   ]
  },
  {
   "cell_type": "markdown",
   "id": "234f7d14",
   "metadata": {},
   "source": [
    "\n",
    "## ✅ Conclusion\n",
    "\n",
    "With clean data handling and a fallback mechanism, this model predicts passenger satisfaction using inflight entertainment scores. It can help airlines flag unsatisfied customers before it's too late.\n"
   ]
  }
 ],
 "metadata": {},
 "nbformat": 4,
 "nbformat_minor": 5
}
