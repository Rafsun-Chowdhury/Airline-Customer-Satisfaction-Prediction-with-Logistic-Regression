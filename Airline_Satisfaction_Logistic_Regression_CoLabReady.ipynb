{
 "cells": [
  {
   "cell_type": "markdown",
   "id": "a4d22307",
   "metadata": {},
   "source": [
    "\n",
    "# ✈️ Airline Customer Satisfaction – Logistic Regression Analysis\n",
    "\n",
    "This notebook analyzes whether in-flight entertainment affects customer satisfaction using logistic regression. It includes data cleaning, feature encoding, model training, and evaluation.\n"
   ]
  },
  {
   "cell_type": "markdown",
   "id": "9f18ff00",
   "metadata": {},
   "source": [
    "## 📂 Load Dataset (Colab Compatible)"
   ]
  },
  {
   "cell_type": "code",
   "execution_count": null,
   "id": "7f734706",
   "metadata": {},
   "outputs": [],
   "source": [
    "\n",
    "import os\n",
    "import pandas as pd\n",
    "import numpy as np\n",
    "import matplotlib.pyplot as plt\n",
    "import seaborn as sns\n",
    "\n",
    "from sklearn.preprocessing import OneHotEncoder\n",
    "from sklearn.model_selection import train_test_split\n",
    "from sklearn.linear_model import LogisticRegression\n",
    "from sklearn import metrics\n",
    "\n",
    "import warnings\n",
    "warnings.filterwarnings('ignore')\n",
    "\n",
    "# Download the CSV from GitHub if running on Colab\n",
    "if \"google.colab\" in str(get_ipython()):\n",
    "    !wget https://raw.githubusercontent.com/Rafsun-Chowdhury/Airline-Customer-Satisfaction-Prediction-with-Logistic-Regression/main/Invistico_Airline.csv\n",
    "\n",
    "# Load dataset\n",
    "df = pd.read_csv(\"Invistico_Airline.csv\")\n",
    "df.head()\n"
   ]
  },
  {
   "cell_type": "markdown",
   "id": "73ac2e9e",
   "metadata": {},
   "source": [
    "## 🔍 Data Exploration"
   ]
  },
  {
   "cell_type": "code",
   "execution_count": null,
   "id": "3735bfe6",
   "metadata": {},
   "outputs": [],
   "source": [
    "\n",
    "df.info()\n",
    "df['satisfaction'].value_counts(dropna=False)\n"
   ]
  },
  {
   "cell_type": "markdown",
   "id": "67e942fb",
   "metadata": {},
   "source": [
    "## 🧹 Handle Missing Values"
   ]
  },
  {
   "cell_type": "code",
   "execution_count": null,
   "id": "c2d0168d",
   "metadata": {},
   "outputs": [],
   "source": [
    "\n",
    "df = df.dropna(axis=0).reset_index(drop=True)\n",
    "df = df.astype({\"Inflight entertainment\": float})\n"
   ]
  },
  {
   "cell_type": "markdown",
   "id": "1855c837",
   "metadata": {},
   "source": [
    "## 🔢 Encode Target Variable"
   ]
  },
  {
   "cell_type": "code",
   "execution_count": null,
   "id": "4609d8a2",
   "metadata": {},
   "outputs": [],
   "source": [
    "\n",
    "encoder = OneHotEncoder(drop='first')\n",
    "df['satisfaction'] = encoder.fit_transform(df[['satisfaction']]).toarray()\n",
    "df.head()\n"
   ]
  },
  {
   "cell_type": "markdown",
   "id": "b1182850",
   "metadata": {},
   "source": [
    "## ✂️ Split Data into Train and Test Sets"
   ]
  },
  {
   "cell_type": "code",
   "execution_count": null,
   "id": "3659ab9e",
   "metadata": {},
   "outputs": [],
   "source": [
    "\n",
    "X = df[['Inflight entertainment']]\n",
    "y = df['satisfaction']\n",
    "\n",
    "X_train, X_test, y_train, y_test = train_test_split(X, y, test_size=0.3, random_state=42)\n"
   ]
  },
  {
   "cell_type": "markdown",
   "id": "1aebbe12",
   "metadata": {},
   "source": [
    "## 🤖 Train Logistic Regression Model"
   ]
  },
  {
   "cell_type": "code",
   "execution_count": null,
   "id": "ca01ebe5",
   "metadata": {},
   "outputs": [],
   "source": [
    "\n",
    "model = LogisticRegression()\n",
    "model.fit(X_train, y_train)\n",
    "\n",
    "print(\"Model Coefficients:\", model.coef_)\n",
    "print(\"Intercept:\", model.intercept_)\n"
   ]
  },
  {
   "cell_type": "markdown",
   "id": "e963bf1d",
   "metadata": {},
   "source": [
    "## 📉 Logistic Regression Curve"
   ]
  },
  {
   "cell_type": "code",
   "execution_count": null,
   "id": "6b1ca92d",
   "metadata": {},
   "outputs": [],
   "source": [
    "\n",
    "sns.regplot(x=\"Inflight entertainment\", y=\"satisfaction\", data=df, logistic=True, ci=None)\n",
    "plt.title(\"Logistic Regression Curve\")\n",
    "plt.xlabel(\"Inflight Entertainment\")\n",
    "plt.ylabel(\"Satisfaction (Encoded)\")\n",
    "plt.grid(True)\n",
    "plt.show()\n"
   ]
  },
  {
   "cell_type": "markdown",
   "id": "5051f2cc",
   "metadata": {},
   "source": [
    "## 📈 Model Evaluation"
   ]
  },
  {
   "cell_type": "code",
   "execution_count": null,
   "id": "10c20c45",
   "metadata": {},
   "outputs": [],
   "source": [
    "\n",
    "y_pred = model.predict(X_test)\n",
    "\n",
    "print(\"Accuracy:\", \"%.4f\" % metrics.accuracy_score(y_test, y_pred))\n",
    "print(\"Precision:\", \"%.4f\" % metrics.precision_score(y_test, y_pred))\n",
    "print(\"Recall:\", \"%.4f\" % metrics.recall_score(y_test, y_pred))\n",
    "print(\"F1 Score:\", \"%.4f\" % metrics.f1_score(y_test, y_pred))\n"
   ]
  },
  {
   "cell_type": "markdown",
   "id": "09a59d6b",
   "metadata": {},
   "source": [
    "## 📊 Confusion Matrix"
   ]
  },
  {
   "cell_type": "code",
   "execution_count": null,
   "id": "d7cc941e",
   "metadata": {},
   "outputs": [],
   "source": [
    "\n",
    "cm = metrics.confusion_matrix(y_test, y_pred, labels=model.classes_)\n",
    "disp = metrics.ConfusionMatrixDisplay(confusion_matrix=cm, display_labels=model.classes_)\n",
    "disp.plot()\n",
    "plt.title(\"Confusion Matrix\")\n",
    "plt.show()\n"
   ]
  },
  {
   "cell_type": "markdown",
   "id": "b1659dec",
   "metadata": {},
   "source": [
    "\n",
    "## ✅ Conclusion\n",
    "\n",
    "The logistic regression model reveals a strong positive relationship between in-flight entertainment and customer satisfaction. With only one predictor, the model achieves solid performance, highlighting how service quality can impact customer experience.\n"
   ]
  }
 ],
 "metadata": {},
 "nbformat": 4,
 "nbformat_minor": 5
}
